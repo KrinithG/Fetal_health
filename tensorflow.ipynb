{
 "cells": [
  {
   "cell_type": "code",
   "execution_count": 1,
   "id": "e2ecf93c",
   "metadata": {
    "_cell_guid": "b1076dfc-b9ad-4769-8c92-a6c4dae69d19",
    "_uuid": "8f2839f25d086af736a60e9eeb907d3b93b6e0e5",
    "execution": {
     "iopub.execute_input": "2023-07-16T12:14:39.459897Z",
     "iopub.status.busy": "2023-07-16T12:14:39.459383Z",
     "iopub.status.idle": "2023-07-16T12:14:39.481511Z",
     "shell.execute_reply": "2023-07-16T12:14:39.480424Z"
    },
    "papermill": {
     "duration": 0.03562,
     "end_time": "2023-07-16T12:14:39.484037",
     "exception": false,
     "start_time": "2023-07-16T12:14:39.448417",
     "status": "completed"
    },
    "tags": []
   },
   "outputs": [
    {
     "name": "stdout",
     "output_type": "stream",
     "text": [
      "/kaggle/input/fetal-health-classification/fetal_health.csv\n"
     ]
    }
   ],
   "source": [
    "# This Python 3 environment comes with many helpful analytics libraries installed\n",
    "# It is defined by the kaggle/python Docker image: https://github.com/kaggle/docker-python\n",
    "# For example, here's several helpful packages to load\n",
    "\n",
    "import numpy as np # linear algebra\n",
    "import pandas as pd # data processing, CSV file I/O (e.g. pd.read_csv)\n",
    "\n",
    "# Input data files are available in the read-only \"../input/\" directory\n",
    "# For example, running this (by clicking run or pressing Shift+Enter) will list all files under the input directory\n",
    "\n",
    "import os\n",
    "for dirname, _, filenames in os.walk('/kaggle/input'):\n",
    "    for filename in filenames:\n",
    "        print(os.path.join(dirname, filename))\n",
    "\n",
    "# You can write up to 20GB to the current directory (/kaggle/working/) that gets preserved as output when you create a version using \"Save & Run All\" \n",
    "# You can also write temporary files to /kaggle/temp/, but they won't be saved outside of the current session"
   ]
  },
  {
   "cell_type": "code",
   "execution_count": 2,
   "id": "edb789a6",
   "metadata": {
    "execution": {
     "iopub.execute_input": "2023-07-16T12:14:39.504922Z",
     "iopub.status.busy": "2023-07-16T12:14:39.504297Z",
     "iopub.status.idle": "2023-07-16T12:14:39.508603Z",
     "shell.execute_reply": "2023-07-16T12:14:39.507662Z"
    },
    "papermill": {
     "duration": 0.017591,
     "end_time": "2023-07-16T12:14:39.511025",
     "exception": false,
     "start_time": "2023-07-16T12:14:39.493434",
     "status": "completed"
    },
    "tags": []
   },
   "outputs": [],
   "source": [
    "import numpy as np\n",
    "import pandas as pd"
   ]
  },
  {
   "cell_type": "code",
   "execution_count": 3,
   "id": "0a41474f",
   "metadata": {
    "execution": {
     "iopub.execute_input": "2023-07-16T12:14:39.530077Z",
     "iopub.status.busy": "2023-07-16T12:14:39.529650Z",
     "iopub.status.idle": "2023-07-16T12:14:39.560997Z",
     "shell.execute_reply": "2023-07-16T12:14:39.560128Z"
    },
    "papermill": {
     "duration": 0.043857,
     "end_time": "2023-07-16T12:14:39.563521",
     "exception": false,
     "start_time": "2023-07-16T12:14:39.519664",
     "status": "completed"
    },
    "tags": []
   },
   "outputs": [],
   "source": [
    "df=pd.read_csv('/kaggle/input/fetal-health-classification/fetal_health.csv')"
   ]
  },
  {
   "cell_type": "code",
   "execution_count": 4,
   "id": "7e09e159",
   "metadata": {
    "execution": {
     "iopub.execute_input": "2023-07-16T12:14:39.582828Z",
     "iopub.status.busy": "2023-07-16T12:14:39.582135Z",
     "iopub.status.idle": "2023-07-16T12:14:39.588814Z",
     "shell.execute_reply": "2023-07-16T12:14:39.588087Z"
    },
    "papermill": {
     "duration": 0.018586,
     "end_time": "2023-07-16T12:14:39.590857",
     "exception": false,
     "start_time": "2023-07-16T12:14:39.572271",
     "status": "completed"
    },
    "tags": []
   },
   "outputs": [
    {
     "data": {
      "text/plain": [
       "Index(['baseline value', 'accelerations', 'fetal_movement',\n",
       "       'uterine_contractions', 'light_decelerations', 'severe_decelerations',\n",
       "       'prolongued_decelerations', 'abnormal_short_term_variability',\n",
       "       'mean_value_of_short_term_variability',\n",
       "       'percentage_of_time_with_abnormal_long_term_variability',\n",
       "       'mean_value_of_long_term_variability', 'histogram_width',\n",
       "       'histogram_min', 'histogram_max', 'histogram_number_of_peaks',\n",
       "       'histogram_number_of_zeroes', 'histogram_mode', 'histogram_mean',\n",
       "       'histogram_median', 'histogram_variance', 'histogram_tendency',\n",
       "       'fetal_health'],\n",
       "      dtype='object')"
      ]
     },
     "execution_count": 4,
     "metadata": {},
     "output_type": "execute_result"
    }
   ],
   "source": [
    "df.columns"
   ]
  },
  {
   "cell_type": "code",
   "execution_count": 5,
   "id": "a7fbcd13",
   "metadata": {
    "execution": {
     "iopub.execute_input": "2023-07-16T12:14:39.610193Z",
     "iopub.status.busy": "2023-07-16T12:14:39.609754Z",
     "iopub.status.idle": "2023-07-16T12:14:39.623640Z",
     "shell.execute_reply": "2023-07-16T12:14:39.622717Z"
    },
    "papermill": {
     "duration": 0.026154,
     "end_time": "2023-07-16T12:14:39.625880",
     "exception": false,
     "start_time": "2023-07-16T12:14:39.599726",
     "status": "completed"
    },
    "tags": []
   },
   "outputs": [],
   "source": [
    "df=df.drop('severe_decelerations',axis=1)"
   ]
  },
  {
   "cell_type": "markdown",
   "id": "19cc2524",
   "metadata": {
    "papermill": {
     "duration": 0.008533,
     "end_time": "2023-07-16T12:14:39.643299",
     "exception": false,
     "start_time": "2023-07-16T12:14:39.634766",
     "status": "completed"
    },
    "tags": []
   },
   "source": [
    "WE DROPPED THIS COLUMN OF 'severe_decelerations' beacause all of its value=0 so its has no role in this model ( I already knew it beacuse I have done EDA in the model where I wrote NN from scratch, so I am using that knowledge here)"
   ]
  },
  {
   "cell_type": "code",
   "execution_count": 6,
   "id": "116fa5d7",
   "metadata": {
    "execution": {
     "iopub.execute_input": "2023-07-16T12:14:39.663129Z",
     "iopub.status.busy": "2023-07-16T12:14:39.662695Z",
     "iopub.status.idle": "2023-07-16T12:14:39.670047Z",
     "shell.execute_reply": "2023-07-16T12:14:39.668995Z"
    },
    "papermill": {
     "duration": 0.019755,
     "end_time": "2023-07-16T12:14:39.672157",
     "exception": false,
     "start_time": "2023-07-16T12:14:39.652402",
     "status": "completed"
    },
    "tags": []
   },
   "outputs": [
    {
     "data": {
      "text/plain": [
       "(Index(['baseline value', 'accelerations', 'fetal_movement',\n",
       "        'uterine_contractions', 'light_decelerations',\n",
       "        'prolongued_decelerations', 'abnormal_short_term_variability',\n",
       "        'mean_value_of_short_term_variability',\n",
       "        'percentage_of_time_with_abnormal_long_term_variability',\n",
       "        'mean_value_of_long_term_variability', 'histogram_width',\n",
       "        'histogram_min', 'histogram_max', 'histogram_number_of_peaks',\n",
       "        'histogram_number_of_zeroes', 'histogram_mode', 'histogram_mean',\n",
       "        'histogram_median', 'histogram_variance', 'histogram_tendency',\n",
       "        'fetal_health'],\n",
       "       dtype='object'),\n",
       " (2126, 21))"
      ]
     },
     "execution_count": 6,
     "metadata": {},
     "output_type": "execute_result"
    }
   ],
   "source": [
    "df.columns,df.shape"
   ]
  },
  {
   "cell_type": "markdown",
   "id": "4ec362c8",
   "metadata": {
    "papermill": {
     "duration": 0.008732,
     "end_time": "2023-07-16T12:14:39.691159",
     "exception": false,
     "start_time": "2023-07-16T12:14:39.682427",
     "status": "completed"
    },
    "tags": []
   },
   "source": []
  },
  {
   "cell_type": "code",
   "execution_count": 7,
   "id": "e3d2caee",
   "metadata": {
    "execution": {
     "iopub.execute_input": "2023-07-16T12:14:39.711402Z",
     "iopub.status.busy": "2023-07-16T12:14:39.710309Z",
     "iopub.status.idle": "2023-07-16T12:14:39.716936Z",
     "shell.execute_reply": "2023-07-16T12:14:39.715803Z"
    },
    "papermill": {
     "duration": 0.019347,
     "end_time": "2023-07-16T12:14:39.719582",
     "exception": false,
     "start_time": "2023-07-16T12:14:39.700235",
     "status": "completed"
    },
    "tags": []
   },
   "outputs": [],
   "source": [
    "X=df.drop('fetal_health',axis=1)"
   ]
  },
  {
   "cell_type": "code",
   "execution_count": 8,
   "id": "19d59a83",
   "metadata": {
    "execution": {
     "iopub.execute_input": "2023-07-16T12:14:39.740252Z",
     "iopub.status.busy": "2023-07-16T12:14:39.739584Z",
     "iopub.status.idle": "2023-07-16T12:14:39.745920Z",
     "shell.execute_reply": "2023-07-16T12:14:39.744851Z"
    },
    "papermill": {
     "duration": 0.019461,
     "end_time": "2023-07-16T12:14:39.748297",
     "exception": false,
     "start_time": "2023-07-16T12:14:39.728836",
     "status": "completed"
    },
    "tags": []
   },
   "outputs": [],
   "source": [
    "Y=df['fetal_health']"
   ]
  },
  {
   "cell_type": "code",
   "execution_count": 9,
   "id": "e246087c",
   "metadata": {
    "execution": {
     "iopub.execute_input": "2023-07-16T12:14:39.768321Z",
     "iopub.status.busy": "2023-07-16T12:14:39.767572Z",
     "iopub.status.idle": "2023-07-16T12:14:40.982988Z",
     "shell.execute_reply": "2023-07-16T12:14:40.981987Z"
    },
    "papermill": {
     "duration": 1.228186,
     "end_time": "2023-07-16T12:14:40.985538",
     "exception": false,
     "start_time": "2023-07-16T12:14:39.757352",
     "status": "completed"
    },
    "tags": []
   },
   "outputs": [
    {
     "name": "stderr",
     "output_type": "stream",
     "text": [
      "/opt/conda/lib/python3.10/site-packages/scipy/__init__.py:146: UserWarning: A NumPy version >=1.16.5 and <1.23.0 is required for this version of SciPy (detected version 1.23.5\n",
      "  warnings.warn(f\"A NumPy version >={np_minversion} and <{np_maxversion}\"\n"
     ]
    }
   ],
   "source": [
    "from sklearn.model_selection import train_test_split\n",
    "X_train,X_test,Y_train,Y_test=train_test_split(X,Y,test_size=0.2,random_state=42)\n",
    "X_train,X_val,Y_train,Y_val=train_test_split(X_train,Y_train,test_size=0.2,random_state=42)"
   ]
  },
  {
   "cell_type": "markdown",
   "id": "5e602d95",
   "metadata": {
    "papermill": {
     "duration": 0.00885,
     "end_time": "2023-07-16T12:14:41.003395",
     "exception": false,
     "start_time": "2023-07-16T12:14:40.994545",
     "status": "completed"
    },
    "tags": []
   },
   "source": []
  },
  {
   "cell_type": "code",
   "execution_count": 10,
   "id": "107cd0ac",
   "metadata": {
    "execution": {
     "iopub.execute_input": "2023-07-16T12:14:41.022768Z",
     "iopub.status.busy": "2023-07-16T12:14:41.022372Z",
     "iopub.status.idle": "2023-07-16T12:14:41.028198Z",
     "shell.execute_reply": "2023-07-16T12:14:41.027102Z"
    },
    "papermill": {
     "duration": 0.018826,
     "end_time": "2023-07-16T12:14:41.031013",
     "exception": false,
     "start_time": "2023-07-16T12:14:41.012187",
     "status": "completed"
    },
    "tags": []
   },
   "outputs": [
    {
     "name": "stdout",
     "output_type": "stream",
     "text": [
      "(1360, 20) (426, 20) (1360,) (426,)\n"
     ]
    }
   ],
   "source": [
    "print(X_train.shape,X_test.shape,Y_train.shape,Y_test.shape)"
   ]
  },
  {
   "cell_type": "code",
   "execution_count": 11,
   "id": "e312e98d",
   "metadata": {
    "execution": {
     "iopub.execute_input": "2023-07-16T12:14:41.050224Z",
     "iopub.status.busy": "2023-07-16T12:14:41.049862Z",
     "iopub.status.idle": "2023-07-16T12:14:41.085726Z",
     "shell.execute_reply": "2023-07-16T12:14:41.084611Z"
    },
    "papermill": {
     "duration": 0.048272,
     "end_time": "2023-07-16T12:14:41.088151",
     "exception": false,
     "start_time": "2023-07-16T12:14:41.039879",
     "status": "completed"
    },
    "tags": []
   },
   "outputs": [
    {
     "data": {
      "text/html": [
       "<div>\n",
       "<style scoped>\n",
       "    .dataframe tbody tr th:only-of-type {\n",
       "        vertical-align: middle;\n",
       "    }\n",
       "\n",
       "    .dataframe tbody tr th {\n",
       "        vertical-align: top;\n",
       "    }\n",
       "\n",
       "    .dataframe thead th {\n",
       "        text-align: right;\n",
       "    }\n",
       "</style>\n",
       "<table border=\"1\" class=\"dataframe\">\n",
       "  <thead>\n",
       "    <tr style=\"text-align: right;\">\n",
       "      <th></th>\n",
       "      <th>baseline value</th>\n",
       "      <th>accelerations</th>\n",
       "      <th>fetal_movement</th>\n",
       "      <th>uterine_contractions</th>\n",
       "      <th>light_decelerations</th>\n",
       "      <th>prolongued_decelerations</th>\n",
       "      <th>abnormal_short_term_variability</th>\n",
       "      <th>mean_value_of_short_term_variability</th>\n",
       "      <th>percentage_of_time_with_abnormal_long_term_variability</th>\n",
       "      <th>mean_value_of_long_term_variability</th>\n",
       "      <th>histogram_width</th>\n",
       "      <th>histogram_min</th>\n",
       "      <th>histogram_max</th>\n",
       "      <th>histogram_number_of_peaks</th>\n",
       "      <th>histogram_number_of_zeroes</th>\n",
       "      <th>histogram_mode</th>\n",
       "      <th>histogram_mean</th>\n",
       "      <th>histogram_median</th>\n",
       "      <th>histogram_variance</th>\n",
       "      <th>histogram_tendency</th>\n",
       "    </tr>\n",
       "  </thead>\n",
       "  <tbody>\n",
       "    <tr>\n",
       "      <th>0</th>\n",
       "      <td>120.0</td>\n",
       "      <td>0.000</td>\n",
       "      <td>0.0</td>\n",
       "      <td>0.000</td>\n",
       "      <td>0.000</td>\n",
       "      <td>0.0</td>\n",
       "      <td>73.0</td>\n",
       "      <td>0.5</td>\n",
       "      <td>43.0</td>\n",
       "      <td>2.4</td>\n",
       "      <td>64.0</td>\n",
       "      <td>62.0</td>\n",
       "      <td>126.0</td>\n",
       "      <td>2.0</td>\n",
       "      <td>0.0</td>\n",
       "      <td>120.0</td>\n",
       "      <td>137.0</td>\n",
       "      <td>121.0</td>\n",
       "      <td>73.0</td>\n",
       "      <td>1.0</td>\n",
       "    </tr>\n",
       "    <tr>\n",
       "      <th>1</th>\n",
       "      <td>132.0</td>\n",
       "      <td>0.006</td>\n",
       "      <td>0.0</td>\n",
       "      <td>0.006</td>\n",
       "      <td>0.003</td>\n",
       "      <td>0.0</td>\n",
       "      <td>17.0</td>\n",
       "      <td>2.1</td>\n",
       "      <td>0.0</td>\n",
       "      <td>10.4</td>\n",
       "      <td>130.0</td>\n",
       "      <td>68.0</td>\n",
       "      <td>198.0</td>\n",
       "      <td>6.0</td>\n",
       "      <td>1.0</td>\n",
       "      <td>141.0</td>\n",
       "      <td>136.0</td>\n",
       "      <td>140.0</td>\n",
       "      <td>12.0</td>\n",
       "      <td>0.0</td>\n",
       "    </tr>\n",
       "    <tr>\n",
       "      <th>2</th>\n",
       "      <td>133.0</td>\n",
       "      <td>0.003</td>\n",
       "      <td>0.0</td>\n",
       "      <td>0.008</td>\n",
       "      <td>0.003</td>\n",
       "      <td>0.0</td>\n",
       "      <td>16.0</td>\n",
       "      <td>2.1</td>\n",
       "      <td>0.0</td>\n",
       "      <td>13.4</td>\n",
       "      <td>130.0</td>\n",
       "      <td>68.0</td>\n",
       "      <td>198.0</td>\n",
       "      <td>5.0</td>\n",
       "      <td>1.0</td>\n",
       "      <td>141.0</td>\n",
       "      <td>135.0</td>\n",
       "      <td>138.0</td>\n",
       "      <td>13.0</td>\n",
       "      <td>0.0</td>\n",
       "    </tr>\n",
       "    <tr>\n",
       "      <th>3</th>\n",
       "      <td>134.0</td>\n",
       "      <td>0.003</td>\n",
       "      <td>0.0</td>\n",
       "      <td>0.008</td>\n",
       "      <td>0.003</td>\n",
       "      <td>0.0</td>\n",
       "      <td>16.0</td>\n",
       "      <td>2.4</td>\n",
       "      <td>0.0</td>\n",
       "      <td>23.0</td>\n",
       "      <td>117.0</td>\n",
       "      <td>53.0</td>\n",
       "      <td>170.0</td>\n",
       "      <td>11.0</td>\n",
       "      <td>0.0</td>\n",
       "      <td>137.0</td>\n",
       "      <td>134.0</td>\n",
       "      <td>137.0</td>\n",
       "      <td>13.0</td>\n",
       "      <td>1.0</td>\n",
       "    </tr>\n",
       "    <tr>\n",
       "      <th>4</th>\n",
       "      <td>132.0</td>\n",
       "      <td>0.007</td>\n",
       "      <td>0.0</td>\n",
       "      <td>0.008</td>\n",
       "      <td>0.000</td>\n",
       "      <td>0.0</td>\n",
       "      <td>16.0</td>\n",
       "      <td>2.4</td>\n",
       "      <td>0.0</td>\n",
       "      <td>19.9</td>\n",
       "      <td>117.0</td>\n",
       "      <td>53.0</td>\n",
       "      <td>170.0</td>\n",
       "      <td>9.0</td>\n",
       "      <td>0.0</td>\n",
       "      <td>137.0</td>\n",
       "      <td>136.0</td>\n",
       "      <td>138.0</td>\n",
       "      <td>11.0</td>\n",
       "      <td>1.0</td>\n",
       "    </tr>\n",
       "  </tbody>\n",
       "</table>\n",
       "</div>"
      ],
      "text/plain": [
       "   baseline value  accelerations  fetal_movement  uterine_contractions  \\\n",
       "0           120.0          0.000             0.0                 0.000   \n",
       "1           132.0          0.006             0.0                 0.006   \n",
       "2           133.0          0.003             0.0                 0.008   \n",
       "3           134.0          0.003             0.0                 0.008   \n",
       "4           132.0          0.007             0.0                 0.008   \n",
       "\n",
       "   light_decelerations  prolongued_decelerations  \\\n",
       "0                0.000                       0.0   \n",
       "1                0.003                       0.0   \n",
       "2                0.003                       0.0   \n",
       "3                0.003                       0.0   \n",
       "4                0.000                       0.0   \n",
       "\n",
       "   abnormal_short_term_variability  mean_value_of_short_term_variability  \\\n",
       "0                             73.0                                   0.5   \n",
       "1                             17.0                                   2.1   \n",
       "2                             16.0                                   2.1   \n",
       "3                             16.0                                   2.4   \n",
       "4                             16.0                                   2.4   \n",
       "\n",
       "   percentage_of_time_with_abnormal_long_term_variability  \\\n",
       "0                                               43.0        \n",
       "1                                                0.0        \n",
       "2                                                0.0        \n",
       "3                                                0.0        \n",
       "4                                                0.0        \n",
       "\n",
       "   mean_value_of_long_term_variability  histogram_width  histogram_min  \\\n",
       "0                                  2.4             64.0           62.0   \n",
       "1                                 10.4            130.0           68.0   \n",
       "2                                 13.4            130.0           68.0   \n",
       "3                                 23.0            117.0           53.0   \n",
       "4                                 19.9            117.0           53.0   \n",
       "\n",
       "   histogram_max  histogram_number_of_peaks  histogram_number_of_zeroes  \\\n",
       "0          126.0                        2.0                         0.0   \n",
       "1          198.0                        6.0                         1.0   \n",
       "2          198.0                        5.0                         1.0   \n",
       "3          170.0                       11.0                         0.0   \n",
       "4          170.0                        9.0                         0.0   \n",
       "\n",
       "   histogram_mode  histogram_mean  histogram_median  histogram_variance  \\\n",
       "0           120.0           137.0             121.0                73.0   \n",
       "1           141.0           136.0             140.0                12.0   \n",
       "2           141.0           135.0             138.0                13.0   \n",
       "3           137.0           134.0             137.0                13.0   \n",
       "4           137.0           136.0             138.0                11.0   \n",
       "\n",
       "   histogram_tendency  \n",
       "0                 1.0  \n",
       "1                 0.0  \n",
       "2                 0.0  \n",
       "3                 1.0  \n",
       "4                 1.0  "
      ]
     },
     "execution_count": 11,
     "metadata": {},
     "output_type": "execute_result"
    }
   ],
   "source": [
    "X.head()"
   ]
  },
  {
   "cell_type": "code",
   "execution_count": 12,
   "id": "289fcfb6",
   "metadata": {
    "execution": {
     "iopub.execute_input": "2023-07-16T12:14:41.108541Z",
     "iopub.status.busy": "2023-07-16T12:14:41.108147Z",
     "iopub.status.idle": "2023-07-16T12:14:41.118278Z",
     "shell.execute_reply": "2023-07-16T12:14:41.116900Z"
    },
    "papermill": {
     "duration": 0.022961,
     "end_time": "2023-07-16T12:14:41.120502",
     "exception": false,
     "start_time": "2023-07-16T12:14:41.097541",
     "status": "completed"
    },
    "tags": []
   },
   "outputs": [
    {
     "data": {
      "text/plain": [
       "(0    2.0\n",
       " 1    1.0\n",
       " 2    1.0\n",
       " 3    1.0\n",
       " 4    1.0\n",
       " Name: fetal_health, dtype: float64,\n",
       " 1603    1.0\n",
       " 1840    1.0\n",
       " 1008    1.0\n",
       " 2084    1.0\n",
       " 909     1.0\n",
       " Name: fetal_health, dtype: float64,\n",
       " 282     1.0\n",
       " 1999    1.0\n",
       " 1709    1.0\n",
       " 988     1.0\n",
       " 2018    1.0\n",
       " Name: fetal_health, dtype: float64)"
      ]
     },
     "execution_count": 12,
     "metadata": {},
     "output_type": "execute_result"
    }
   ],
   "source": [
    "Y.head(),Y_train.head(),Y_test.head()"
   ]
  },
  {
   "cell_type": "code",
   "execution_count": 13,
   "id": "ef6b89b6",
   "metadata": {
    "execution": {
     "iopub.execute_input": "2023-07-16T12:14:41.141214Z",
     "iopub.status.busy": "2023-07-16T12:14:41.140869Z",
     "iopub.status.idle": "2023-07-16T12:14:49.671079Z",
     "shell.execute_reply": "2023-07-16T12:14:49.669884Z"
    },
    "papermill": {
     "duration": 8.543955,
     "end_time": "2023-07-16T12:14:49.673985",
     "exception": false,
     "start_time": "2023-07-16T12:14:41.130030",
     "status": "completed"
    },
    "tags": []
   },
   "outputs": [
    {
     "name": "stderr",
     "output_type": "stream",
     "text": [
      "/opt/conda/lib/python3.10/site-packages/tensorflow_io/python/ops/__init__.py:98: UserWarning: unable to load libtensorflow_io_plugins.so: unable to open file: libtensorflow_io_plugins.so, from paths: ['/opt/conda/lib/python3.10/site-packages/tensorflow_io/python/ops/libtensorflow_io_plugins.so']\n",
      "caused by: ['/opt/conda/lib/python3.10/site-packages/tensorflow_io/python/ops/libtensorflow_io_plugins.so: undefined symbol: _ZN3tsl6StatusC1EN10tensorflow5error4CodeESt17basic_string_viewIcSt11char_traitsIcEENS_14SourceLocationE']\n",
      "  warnings.warn(f\"unable to load libtensorflow_io_plugins.so: {e}\")\n",
      "/opt/conda/lib/python3.10/site-packages/tensorflow_io/python/ops/__init__.py:104: UserWarning: file system plugins are not loaded: unable to open file: libtensorflow_io.so, from paths: ['/opt/conda/lib/python3.10/site-packages/tensorflow_io/python/ops/libtensorflow_io.so']\n",
      "caused by: ['/opt/conda/lib/python3.10/site-packages/tensorflow_io/python/ops/libtensorflow_io.so: undefined symbol: _ZTVN10tensorflow13GcsFileSystemE']\n",
      "  warnings.warn(f\"file system plugins are not loaded: {e}\")\n"
     ]
    }
   ],
   "source": [
    "import tensorflow as tf\n",
    "from tensorflow import keras"
   ]
  },
  {
   "cell_type": "code",
   "execution_count": 14,
   "id": "52def163",
   "metadata": {
    "execution": {
     "iopub.execute_input": "2023-07-16T12:14:49.697187Z",
     "iopub.status.busy": "2023-07-16T12:14:49.695926Z",
     "iopub.status.idle": "2023-07-16T12:14:49.702273Z",
     "shell.execute_reply": "2023-07-16T12:14:49.701393Z"
    },
    "papermill": {
     "duration": 0.020441,
     "end_time": "2023-07-16T12:14:49.704682",
     "exception": false,
     "start_time": "2023-07-16T12:14:49.684241",
     "status": "completed"
    },
    "tags": []
   },
   "outputs": [],
   "source": [
    "Y_train=keras.utils.to_categorical(Y_train)\n",
    "Y_test=keras.utils.to_categorical(Y_test)\n",
    "Y_val=keras.utils.to_categorical(Y_val)"
   ]
  },
  {
   "cell_type": "code",
   "execution_count": 15,
   "id": "3916d515",
   "metadata": {
    "execution": {
     "iopub.execute_input": "2023-07-16T12:14:49.726521Z",
     "iopub.status.busy": "2023-07-16T12:14:49.726124Z",
     "iopub.status.idle": "2023-07-16T12:14:49.734353Z",
     "shell.execute_reply": "2023-07-16T12:14:49.733339Z"
    },
    "papermill": {
     "duration": 0.021594,
     "end_time": "2023-07-16T12:14:49.736540",
     "exception": false,
     "start_time": "2023-07-16T12:14:49.714946",
     "status": "completed"
    },
    "tags": []
   },
   "outputs": [
    {
     "data": {
      "text/plain": [
       "(array([0., 1., 0., 0.], dtype=float32),\n",
       " array([0., 1., 0., 0.], dtype=float32),\n",
       " array([0., 1., 0., 0.], dtype=float32))"
      ]
     },
     "execution_count": 15,
     "metadata": {},
     "output_type": "execute_result"
    }
   ],
   "source": [
    "Y_test[0],Y_train[0],Y_val[0]"
   ]
  },
  {
   "cell_type": "markdown",
   "id": "7c4053eb",
   "metadata": {
    "papermill": {
     "duration": 0.009635,
     "end_time": "2023-07-16T12:14:49.756427",
     "exception": false,
     "start_time": "2023-07-16T12:14:49.746792",
     "status": "completed"
    },
    "tags": []
   },
   "source": [
    "ARCHITECTURE"
   ]
  },
  {
   "cell_type": "code",
   "execution_count": 16,
   "id": "2d71a090",
   "metadata": {
    "execution": {
     "iopub.execute_input": "2023-07-16T12:14:49.778870Z",
     "iopub.status.busy": "2023-07-16T12:14:49.777778Z",
     "iopub.status.idle": "2023-07-16T12:14:49.982540Z",
     "shell.execute_reply": "2023-07-16T12:14:49.981373Z"
    },
    "papermill": {
     "duration": 0.222583,
     "end_time": "2023-07-16T12:14:49.989233",
     "exception": false,
     "start_time": "2023-07-16T12:14:49.766650",
     "status": "completed"
    },
    "tags": []
   },
   "outputs": [
    {
     "name": "stdout",
     "output_type": "stream",
     "text": [
      "Model: \"sequential\"\n",
      "_________________________________________________________________\n",
      " Layer (type)                Output Shape              Param #   \n",
      "=================================================================\n",
      " dense (Dense)               (None, 128)               2688      \n",
      "                                                                 \n",
      " dense_1 (Dense)             (None, 256)               33024     \n",
      "                                                                 \n",
      " dense_2 (Dense)             (None, 4)                 1028      \n",
      "                                                                 \n",
      "=================================================================\n",
      "Total params: 36,740\n",
      "Trainable params: 36,740\n",
      "Non-trainable params: 0\n",
      "_________________________________________________________________\n"
     ]
    }
   ],
   "source": [
    "model = keras.Sequential(\n",
    "[\n",
    "    keras.layers.Dense(128,activation='relu',input_shape=(20,)),\n",
    "    keras.layers.Dense(256,activation='relu'),\n",
    "    keras.layers.Dense(4,activation='softmax'),\n",
    "]\n",
    ")\n",
    "model.summary()\n"
   ]
  },
  {
   "cell_type": "markdown",
   "id": "fd38de93",
   "metadata": {
    "papermill": {
     "duration": 0.011094,
     "end_time": "2023-07-16T12:14:50.011502",
     "exception": false,
     "start_time": "2023-07-16T12:14:50.000408",
     "status": "completed"
    },
    "tags": []
   },
   "source": [
    "COMPILATION OF THE MODEL "
   ]
  },
  {
   "cell_type": "code",
   "execution_count": 17,
   "id": "c942af32",
   "metadata": {
    "execution": {
     "iopub.execute_input": "2023-07-16T12:14:50.036113Z",
     "iopub.status.busy": "2023-07-16T12:14:50.035688Z",
     "iopub.status.idle": "2023-07-16T12:14:50.055326Z",
     "shell.execute_reply": "2023-07-16T12:14:50.054013Z"
    },
    "papermill": {
     "duration": 0.035176,
     "end_time": "2023-07-16T12:14:50.058004",
     "exception": false,
     "start_time": "2023-07-16T12:14:50.022828",
     "status": "completed"
    },
    "tags": []
   },
   "outputs": [],
   "source": [
    "model.compile(optimizer='adam',loss='categorical_crossentropy',metrics=['accuracy'])"
   ]
  },
  {
   "cell_type": "markdown",
   "id": "02f793e7",
   "metadata": {
    "papermill": {
     "duration": 0.010952,
     "end_time": "2023-07-16T12:14:50.080358",
     "exception": false,
     "start_time": "2023-07-16T12:14:50.069406",
     "status": "completed"
    },
    "tags": []
   },
   "source": [
    "TRAINING THE MODEL AND VALIDATING USING THE VALIDATION DATA"
   ]
  },
  {
   "cell_type": "code",
   "execution_count": 18,
   "id": "9fa5acf0",
   "metadata": {
    "execution": {
     "iopub.execute_input": "2023-07-16T12:14:50.104928Z",
     "iopub.status.busy": "2023-07-16T12:14:50.103871Z",
     "iopub.status.idle": "2023-07-16T12:14:56.213021Z",
     "shell.execute_reply": "2023-07-16T12:14:56.211747Z"
    },
    "papermill": {
     "duration": 6.124106,
     "end_time": "2023-07-16T12:14:56.215511",
     "exception": false,
     "start_time": "2023-07-16T12:14:50.091405",
     "status": "completed"
    },
    "tags": []
   },
   "outputs": [
    {
     "name": "stdout",
     "output_type": "stream",
     "text": [
      "Epoch 1/20\n",
      "43/43 [==============================] - 1s 9ms/step - loss: 2.6847 - accuracy: 0.7426 - val_loss: 0.6028 - val_accuracy: 0.8000\n",
      "Epoch 2/20\n",
      "43/43 [==============================] - 0s 3ms/step - loss: 0.5930 - accuracy: 0.8331 - val_loss: 0.5177 - val_accuracy: 0.8559\n",
      "Epoch 3/20\n",
      "43/43 [==============================] - 0s 3ms/step - loss: 0.5982 - accuracy: 0.8346 - val_loss: 0.4743 - val_accuracy: 0.8735\n",
      "Epoch 4/20\n",
      "43/43 [==============================] - 0s 3ms/step - loss: 0.7162 - accuracy: 0.8250 - val_loss: 0.9362 - val_accuracy: 0.6794\n",
      "Epoch 5/20\n",
      "43/43 [==============================] - 0s 3ms/step - loss: 0.5779 - accuracy: 0.8382 - val_loss: 0.7473 - val_accuracy: 0.8471\n",
      "Epoch 6/20\n",
      "43/43 [==============================] - 0s 3ms/step - loss: 0.4913 - accuracy: 0.8390 - val_loss: 0.6419 - val_accuracy: 0.8471\n",
      "Epoch 7/20\n",
      "43/43 [==============================] - 0s 3ms/step - loss: 0.7357 - accuracy: 0.8007 - val_loss: 0.5464 - val_accuracy: 0.8382\n",
      "Epoch 8/20\n",
      "43/43 [==============================] - 0s 3ms/step - loss: 0.5740 - accuracy: 0.8353 - val_loss: 0.7390 - val_accuracy: 0.8294\n",
      "Epoch 9/20\n",
      "43/43 [==============================] - 0s 3ms/step - loss: 0.7073 - accuracy: 0.8257 - val_loss: 0.6827 - val_accuracy: 0.7853\n",
      "Epoch 10/20\n",
      "43/43 [==============================] - 0s 3ms/step - loss: 0.4595 - accuracy: 0.8404 - val_loss: 0.6166 - val_accuracy: 0.8588\n",
      "Epoch 11/20\n",
      "43/43 [==============================] - 0s 3ms/step - loss: 0.4319 - accuracy: 0.8507 - val_loss: 0.5867 - val_accuracy: 0.8500\n",
      "Epoch 12/20\n",
      "43/43 [==============================] - 0s 3ms/step - loss: 0.5259 - accuracy: 0.8199 - val_loss: 0.5702 - val_accuracy: 0.8118\n",
      "Epoch 13/20\n",
      "43/43 [==============================] - 0s 3ms/step - loss: 0.4512 - accuracy: 0.8441 - val_loss: 0.3674 - val_accuracy: 0.8853\n",
      "Epoch 14/20\n",
      "43/43 [==============================] - 0s 3ms/step - loss: 0.4090 - accuracy: 0.8412 - val_loss: 0.6281 - val_accuracy: 0.8412\n",
      "Epoch 15/20\n",
      "43/43 [==============================] - 0s 3ms/step - loss: 0.6450 - accuracy: 0.8301 - val_loss: 0.7468 - val_accuracy: 0.7500\n",
      "Epoch 16/20\n",
      "43/43 [==============================] - 0s 3ms/step - loss: 0.3917 - accuracy: 0.8544 - val_loss: 0.8262 - val_accuracy: 0.7059\n",
      "Epoch 17/20\n",
      "43/43 [==============================] - 0s 3ms/step - loss: 0.4092 - accuracy: 0.8625 - val_loss: 0.3880 - val_accuracy: 0.8559\n",
      "Epoch 18/20\n",
      "43/43 [==============================] - 0s 3ms/step - loss: 0.3270 - accuracy: 0.8801 - val_loss: 0.3872 - val_accuracy: 0.8559\n",
      "Epoch 19/20\n",
      "43/43 [==============================] - 0s 3ms/step - loss: 0.3612 - accuracy: 0.8625 - val_loss: 0.4802 - val_accuracy: 0.8206\n",
      "Epoch 20/20\n",
      "43/43 [==============================] - 0s 3ms/step - loss: 0.3357 - accuracy: 0.8706 - val_loss: 0.4698 - val_accuracy: 0.8441\n"
     ]
    },
    {
     "data": {
      "text/plain": [
       "<keras.callbacks.History at 0x7c17e871eec0>"
      ]
     },
     "execution_count": 18,
     "metadata": {},
     "output_type": "execute_result"
    }
   ],
   "source": [
    "model.fit(X_train,Y_train,batch_size=32,epochs=20, validation_data=(X_val,Y_val))"
   ]
  },
  {
   "cell_type": "markdown",
   "id": "8e80877e",
   "metadata": {
    "papermill": {
     "duration": 0.018532,
     "end_time": "2023-07-16T12:14:56.253520",
     "exception": false,
     "start_time": "2023-07-16T12:14:56.234988",
     "status": "completed"
    },
    "tags": []
   },
   "source": [
    "WE HAVE A MODEL WITH 85% ACCURACY ON TRAINING DATA"
   ]
  },
  {
   "cell_type": "code",
   "execution_count": 19,
   "id": "bfc68a93",
   "metadata": {
    "execution": {
     "iopub.execute_input": "2023-07-16T12:14:56.292907Z",
     "iopub.status.busy": "2023-07-16T12:14:56.292120Z",
     "iopub.status.idle": "2023-07-16T12:14:56.411806Z",
     "shell.execute_reply": "2023-07-16T12:14:56.410747Z"
    },
    "papermill": {
     "duration": 0.141924,
     "end_time": "2023-07-16T12:14:56.413924",
     "exception": false,
     "start_time": "2023-07-16T12:14:56.272000",
     "status": "completed"
    },
    "tags": []
   },
   "outputs": [
    {
     "name": "stdout",
     "output_type": "stream",
     "text": [
      "14/14 [==============================] - 0s 2ms/step - loss: 0.4182 - accuracy: 0.8803\n",
      "Test loss:0.41821375489234924\n",
      "Test accuracy: 0.8802816867828369\n"
     ]
    }
   ],
   "source": [
    "test_loss,test_acc=model.evaluate(X_test,Y_test)\n",
    "print(f'Test loss:{test_loss}')\n",
    "print(f'Test accuracy: {test_acc}')"
   ]
  },
  {
   "cell_type": "markdown",
   "id": "87bad635",
   "metadata": {
    "papermill": {
     "duration": 0.018594,
     "end_time": "2023-07-16T12:14:56.451463",
     "exception": false,
     "start_time": "2023-07-16T12:14:56.432869",
     "status": "completed"
    },
    "tags": []
   },
   "source": [
    "WE HAVE ~88% ACCURACY ON TESTING DATA. "
   ]
  },
  {
   "cell_type": "code",
   "execution_count": null,
   "id": "9243096f",
   "metadata": {
    "papermill": {
     "duration": 0.018491,
     "end_time": "2023-07-16T12:14:56.488587",
     "exception": false,
     "start_time": "2023-07-16T12:14:56.470096",
     "status": "completed"
    },
    "tags": []
   },
   "outputs": [],
   "source": []
  },
  {
   "cell_type": "code",
   "execution_count": null,
   "id": "176cb996",
   "metadata": {
    "papermill": {
     "duration": 0.019071,
     "end_time": "2023-07-16T12:14:56.526445",
     "exception": false,
     "start_time": "2023-07-16T12:14:56.507374",
     "status": "completed"
    },
    "tags": []
   },
   "outputs": [],
   "source": []
  }
 ],
 "metadata": {
  "kernelspec": {
   "display_name": "Python 3",
   "language": "python",
   "name": "python3"
  },
  "language_info": {
   "codemirror_mode": {
    "name": "ipython",
    "version": 3
   },
   "file_extension": ".py",
   "mimetype": "text/x-python",
   "name": "python",
   "nbconvert_exporter": "python",
   "pygments_lexer": "ipython3",
   "version": "3.10.12"
  },
  "papermill": {
   "default_parameters": {},
   "duration": 29.572175,
   "end_time": "2023-07-16T12:14:58.471783",
   "environment_variables": {},
   "exception": null,
   "input_path": "__notebook__.ipynb",
   "output_path": "__notebook__.ipynb",
   "parameters": {},
   "start_time": "2023-07-16T12:14:28.899608",
   "version": "2.4.0"
  }
 },
 "nbformat": 4,
 "nbformat_minor": 5
}
